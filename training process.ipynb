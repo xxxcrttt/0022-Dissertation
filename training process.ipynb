{
  "cells": [
    {
      "cell_type": "markdown",
      "metadata": {
        "id": "view-in-github",
        "colab_type": "text"
      },
      "source": [
        "<a href=\"https://colab.research.google.com/github/xxxcrttt/0022-Dissertation/blob/main/training%20process.ipynb\" target=\"_parent\"><img src=\"https://colab.research.google.com/assets/colab-badge.svg\" alt=\"Open In Colab\"/></a>"
      ]
    },
    {
      "cell_type": "code",
      "execution_count": null,
      "metadata": {
        "id": "HE7aUvMi_8H1"
      },
      "outputs": [],
      "source": [
        "import numpy as np\n",
        "import requests\n",
        "\n",
        "API_KEY = 'ei_fa0509c4c0d12e026934b03bb2f56c4c75771e18fb403be6bcb4b30ebdc27435'\n",
        "\n",
        "def download_data(url):\n",
        "    response = requests.get(url, headers={'x-api-key': API_KEY})\n",
        "    if response.status_code == 200:\n",
        "        return response.content\n",
        "    else:\n",
        "        print(response.content)\n",
        "        raise ConnectionError('Could not download data file')\n",
        "\n",
        "X = download_data('https://studio.edgeimpulse.com/v1/api/112844/training/5/x')\n",
        "Y = download_data('https://studio.edgeimpulse.com/v1/api/112844/training/5/y')\n",
        "\n"
      ]
    },
    {
      "cell_type": "code",
      "execution_count": null,
      "metadata": {
        "id": "C_PNpQHoAW5w"
      },
      "outputs": [],
      "source": [
        "with open('x_train.npy', 'wb') as file:\n",
        "    file.write(X)\n",
        "with open('y_train.npy', 'wb') as file:\n",
        "    file.write(Y)\n",
        "X = np.load('x_train.npy')\n",
        "Y = np.load('y_train.npy')[:,0]"
      ]
    },
    {
      "cell_type": "code",
      "execution_count": null,
      "metadata": {
        "id": "Yvjr325vIPCp"
      },
      "outputs": [],
      "source": [
        "import sys, os, random\n",
        "import tensorflow as tf\n",
        "from sklearn.model_selection import train_test_split\n",
        "\n",
        "import logging\n",
        "tf.get_logger().setLevel(logging.ERROR)\n",
        "os.environ['TF_CPP_MIN_LOG_LEVEL'] = '2'\n",
        "\n",
        "# Set random seeds for repeatable results\n",
        "RANDOM_SEED = 3\n",
        "random.seed(RANDOM_SEED)\n",
        "np.random.seed(RANDOM_SEED)\n",
        "tf.random.set_seed(RANDOM_SEED)\n",
        "\n",
        "classes_values = [ \"0\", \"1\", \"2\", \"3\", \"4\", \"5\", \"6\", \"7\" ]\n",
        "classes = len(classes_values)\n",
        "\n",
        "Y = tf.keras.utils.to_categorical(Y - 1, classes)\n",
        "\n",
        "X_train, X_test, Y_train, Y_test = train_test_split(X, Y, test_size=0.2, random_state=1)\n",
        "\n",
        "input_length = X_train[0].shape[0]\n",
        "\n",
        "train_dataset = tf.data.Dataset.from_tensor_slices((X_train, Y_train))\n",
        "validation_dataset = tf.data.Dataset.from_tensor_slices((X_test, Y_test))\n",
        "\n",
        "def get_reshape_function(reshape_to):\n",
        "    def reshape(image, label):\n",
        "        return tf.reshape(image, reshape_to), label\n",
        "    return reshape\n",
        "\n",
        "callbacks = []\n"
      ]
    },
    {
      "cell_type": "code",
      "execution_count": null,
      "metadata": {
        "id": "GkXi8OKnIVI9"
      },
      "outputs": [],
      "source": [
        "import math\n",
        "from pathlib import Path\n",
        "import tensorflow as tf\n",
        "from tensorflow.keras import Model\n",
        "from tensorflow.keras.models import Sequential\n",
        "from tensorflow.keras.layers import Dense, InputLayer, Dropout, Conv1D, Flatten, Reshape, MaxPooling1D, BatchNormalization, Conv2D, GlobalMaxPooling2D, Lambda\n",
        "from tensorflow.keras.optimizers import Adam, Adadelta\n",
        "from tensorflow.keras.losses import categorical_crossentropy\n",
        "\n"
      ]
    },
    {
      "cell_type": "code",
      "execution_count": null,
      "metadata": {
        "id": "GlSk-PIjR3ux",
        "colab": {
          "base_uri": "https://localhost:8080/"
        },
        "outputId": "5047396f-2aa9-4c19-c00c-0d5d007bf9f5"
      },
      "outputs": [
        {
          "output_type": "stream",
          "name": "stdout",
          "text": [
            "Epoch 1/20\n",
            "37/37 - 28s - loss: 2.6671 - accuracy: 0.1926 - val_loss: 1.7683 - val_accuracy: 0.4061 - 28s/epoch - 764ms/step\n",
            "Epoch 2/20\n",
            "37/37 - 20s - loss: 1.2910 - accuracy: 0.5283 - val_loss: 1.0526 - val_accuracy: 0.5870 - 20s/epoch - 531ms/step\n",
            "Epoch 3/20\n",
            "37/37 - 22s - loss: 0.8706 - accuracy: 0.6610 - val_loss: 0.7618 - val_accuracy: 0.7270 - 22s/epoch - 583ms/step\n",
            "Epoch 4/20\n",
            "37/37 - 21s - loss: 0.6616 - accuracy: 0.7611 - val_loss: 0.6128 - val_accuracy: 0.7782 - 21s/epoch - 564ms/step\n",
            "Epoch 5/20\n",
            "37/37 - 21s - loss: 0.5408 - accuracy: 0.8116 - val_loss: 0.5135 - val_accuracy: 0.8157 - 21s/epoch - 575ms/step\n",
            "Epoch 6/20\n",
            "37/37 - 20s - loss: 0.4604 - accuracy: 0.8322 - val_loss: 0.4480 - val_accuracy: 0.8430 - 20s/epoch - 530ms/step\n",
            "Epoch 7/20\n",
            "37/37 - 20s - loss: 0.3996 - accuracy: 0.8545 - val_loss: 0.3983 - val_accuracy: 0.8635 - 20s/epoch - 547ms/step\n",
            "Epoch 8/20\n",
            "37/37 - 20s - loss: 0.3621 - accuracy: 0.8793 - val_loss: 0.3614 - val_accuracy: 0.8771 - 20s/epoch - 528ms/step\n",
            "Epoch 9/20\n",
            "37/37 - 20s - loss: 0.3263 - accuracy: 0.8870 - val_loss: 0.3299 - val_accuracy: 0.8840 - 20s/epoch - 550ms/step\n",
            "Epoch 10/20\n",
            "37/37 - 20s - loss: 0.3157 - accuracy: 0.8947 - val_loss: 0.3051 - val_accuracy: 0.9010 - 20s/epoch - 540ms/step\n",
            "Epoch 11/20\n",
            "37/37 - 19s - loss: 0.2795 - accuracy: 0.9067 - val_loss: 0.2878 - val_accuracy: 0.9147 - 19s/epoch - 521ms/step\n",
            "Epoch 12/20\n",
            "37/37 - 20s - loss: 0.2497 - accuracy: 0.9221 - val_loss: 0.2670 - val_accuracy: 0.9181 - 20s/epoch - 538ms/step\n",
            "Epoch 13/20\n",
            "37/37 - 21s - loss: 0.2416 - accuracy: 0.9195 - val_loss: 0.2520 - val_accuracy: 0.9215 - 21s/epoch - 556ms/step\n",
            "Epoch 14/20\n",
            "37/37 - 20s - loss: 0.2137 - accuracy: 0.9332 - val_loss: 0.2409 - val_accuracy: 0.9249 - 20s/epoch - 535ms/step\n",
            "Epoch 15/20\n",
            "37/37 - 20s - loss: 0.2053 - accuracy: 0.9358 - val_loss: 0.2263 - val_accuracy: 0.9317 - 20s/epoch - 553ms/step\n",
            "Epoch 16/20\n",
            "37/37 - 21s - loss: 0.1929 - accuracy: 0.9452 - val_loss: 0.2200 - val_accuracy: 0.9317 - 21s/epoch - 562ms/step\n",
            "Epoch 17/20\n",
            "37/37 - 20s - loss: 0.1758 - accuracy: 0.9486 - val_loss: 0.2126 - val_accuracy: 0.9317 - 20s/epoch - 538ms/step\n",
            "Epoch 18/20\n",
            "37/37 - 19s - loss: 0.1697 - accuracy: 0.9538 - val_loss: 0.2058 - val_accuracy: 0.9317 - 19s/epoch - 526ms/step\n",
            "Epoch 19/20\n",
            "37/37 - 20s - loss: 0.1556 - accuracy: 0.9589 - val_loss: 0.1954 - val_accuracy: 0.9386 - 20s/epoch - 551ms/step\n",
            "Epoch 20/20\n",
            "37/37 - 21s - loss: 0.1538 - accuracy: 0.9563 - val_loss: 0.1923 - val_accuracy: 0.9386 - 21s/epoch - 560ms/step\n",
            "\n",
            "Initial training done.\n"
          ]
        }
      ],
      "source": [
        "WEIGHTS_PATH = './transfer-learning-weights/keras/mobilenet_v2_weights_tf_dim_ordering_tf_kernels_1.0_160.h5'\n",
        "# Download the model weights\n",
        "root_url = 'http://cdn.edgeimpulse.com/'\n",
        "p = Path(WEIGHTS_PATH)\n",
        "if not p.exists():\n",
        "    if not p.parent.exists():\n",
        "        p.parent.mkdir(parents=True)\n",
        "    weights = requests.get(root_url + WEIGHTS_PATH[2:]).content\n",
        "    with open(WEIGHTS_PATH, 'wb') as f:\n",
        "        f.write(weights)\n",
        "\n",
        "INPUT_SHAPE = (160, 160, 3)\n",
        "\n",
        "\n",
        "base_model = tf.keras.applications.MobileNetV2(\n",
        "    input_shape = INPUT_SHAPE, alpha=1,\n",
        "    weights = WEIGHTS_PATH\n",
        ")\n",
        "\n",
        "base_model.trainable = False\n",
        "\n",
        "model = Sequential()\n",
        "model.add(InputLayer(input_shape=INPUT_SHAPE, name='x_input'))\n",
        "# Don't include the base model's top layers\n",
        "last_layer_index = -3\n",
        "model.add(Model(inputs=base_model.inputs, outputs=base_model.layers[last_layer_index].output))\n",
        "model.add(Reshape((-1, model.layers[-1].output.shape[3])))\n",
        "\n",
        "model.add(Dropout(0.1))\n",
        "model.add(Flatten())\n",
        "model.add(Dense(classes, activation='softmax'))\n",
        "\n",
        "# Set the data to the expected input shape\n",
        "train_dataset = train_dataset.map(get_reshape_function(INPUT_SHAPE), tf.data.experimental.AUTOTUNE)\n",
        "validation_dataset = validation_dataset.map(get_reshape_function(INPUT_SHAPE), tf.data.experimental.AUTOTUNE)\n",
        "\n",
        "\n",
        "BATCH_SIZE = 32\n",
        "EPOCHS = 30\n",
        "train_dataset = train_dataset.batch(BATCH_SIZE, drop_remainder=False)\n",
        "validation_dataset = validation_dataset.batch(BATCH_SIZE, drop_remainder=False)\n",
        "\n",
        "model.compile(optimizer=tf.keras.optimizers.Adam(learning_rate=0.00001),\n",
        "                loss='categorical_crossentropy',\n",
        "                metrics=['accuracy'])\n",
        "history1 = model.fit(train_dataset, validation_data=validation_dataset, epochs=EPOCHS, verbose=2, callbacks=callbacks)\n",
        "\n",
        "print('')\n",
        "print('Initial training done.', flush=True)\n",
        "\n"
      ]
    },
    {
      "cell_type": "code",
      "execution_count": null,
      "metadata": {
        "colab": {
          "base_uri": "https://localhost:8080/"
        },
        "id": "7zzlUcmhzGUG",
        "outputId": "b904caf6-df8a-47e1-a589-cfd5942760c2"
      },
      "outputs": [
        {
          "output_type": "stream",
          "name": "stdout",
          "text": [
            "Model: \"sequential\"\n",
            "_________________________________________________________________\n",
            " Layer (type)                Output Shape              Param #   \n",
            "=================================================================\n",
            " model (Functional)          (None, 5, 5, 1280)        2257984   \n",
            "                                                                 \n",
            " reshape (Reshape)           (None, 25, 1280)          0         \n",
            "                                                                 \n",
            " dropout (Dropout)           (None, 25, 1280)          0         \n",
            "                                                                 \n",
            " flatten (Flatten)           (None, 32000)             0         \n",
            "                                                                 \n",
            " dense (Dense)               (None, 8)                 256008    \n",
            "                                                                 \n",
            "=================================================================\n",
            "Total params: 2,513,992\n",
            "Trainable params: 256,008\n",
            "Non-trainable params: 2,257,984\n",
            "_________________________________________________________________\n"
          ]
        }
      ],
      "source": [
        "%matplotlib inline \n",
        "\n",
        "# import matplotlib libaray\n",
        "import matplotlib.pyplot as plt\n",
        "\n",
        "model.summary()\n"
      ]
    },
    {
      "cell_type": "code",
      "source": [
        ""
      ],
      "metadata": {
        "id": "uIu3-kNoBff7"
      },
      "execution_count": null,
      "outputs": []
    },
    {
      "cell_type": "code",
      "source": [
        "acc = history1.history['accuracy']\n",
        "val_acc = history1.history['val_accuracy']\n",
        "\n",
        "loss = history1.history['loss']\n",
        "val_loss = history1.history['val_loss']\n",
        "\n",
        "epochs_range = range(EPOCHS)\n",
        "\n",
        "plt.figure(figsize=(10, 4))\n",
        "plt.subplot(1, 2, 1)\n",
        "plt.plot(epochs_range, acc, label='Training Accuracy')\n",
        "plt.plot(epochs_range, val_acc, label='Validation Accuracy')\n",
        "plt.legend(loc='lower right')\n",
        "plt.title('Training and Validation Accuracy')\n",
        "\n",
        "plt.subplot(1, 2, 2)\n",
        "plt.plot(epochs_range, loss, label='Training Loss')\n",
        "plt.plot(epochs_range, val_loss, label='Validation Loss')\n",
        "plt.legend(loc='upper right')\n",
        "plt.title('Training and Validation Loss')\n",
        "plt.show()"
      ],
      "metadata": {
        "colab": {
          "base_uri": "https://localhost:8080/",
          "height": 281
        },
        "id": "Ieb3UY_PAs8k",
        "outputId": "232fe9ab-aa56-45f4-faf6-5ecee9b606a7"
      },
      "execution_count": null,
      "outputs": [
        {
          "output_type": "display_data",
          "data": {
            "text/plain": [
              "<Figure size 720x288 with 2 Axes>"
            ],
            "image/png": "[encoded data removed]"
          },
          "metadata": {
            "needs_background": "light"
          }
        }
      ]
    },
    {
      "cell_type": "code",
      "source": [
        "# How many epochs we will fine tune the model\n",
        "FINE_TUNE_EPOCHS = 10\n",
        "# What percentage of the base model's layers we will fine tune\n",
        "FINE_TUNE_PERCENTAGE = 65\n",
        "\n",
        "print('Fine-tuning model for {} epochs...'.format(FINE_TUNE_EPOCHS), flush=True)\n",
        "\n",
        "# Determine which layer to begin fine tuning at\n",
        "model_layer_count = len(model.layers)\n",
        "fine_tune_from = math.ceil(model_layer_count * ((100 - FINE_TUNE_PERCENTAGE) / 100))\n",
        "\n",
        "# Allow the entire base model to be trained\n",
        "model.trainable = True\n",
        "# Freeze all the layers before the 'fine_tune_from' layer\n",
        "for layer in model.layers[:fine_tune_from]:\n",
        "    layer.trainable = False\n",
        "\n",
        "model.compile(optimizer=tf.keras.optimizers.Adam(learning_rate=0.000045),\n",
        "                loss='categorical_crossentropy',\n",
        "                metrics=['accuracy'])\n",
        "\n",
        "history = model.fit(train_dataset,\n",
        "                epochs=FINE_TUNE_EPOCHS,\n",
        "                verbose=2,\n",
        "                validation_data=validation_dataset,\n",
        "                callbacks=callbacks,\n",
        "                class_weight=None\n",
        "            )\n",
        "\n"
      ],
      "metadata": {
        "colab": {
          "base_uri": "https://localhost:8080/"
        },
        "id": "GBPA0CtJHrz0",
        "outputId": "a67a6669-d253-41c6-e1dc-50618d828a41"
      },
      "execution_count": null,
      "outputs": [
        {
          "output_type": "stream",
          "name": "stdout",
          "text": [
            "Fine-tuning model for 10 epochs...\n",
            "Epoch 1/10\n",
            "37/37 - 24s - loss: 0.1670 - accuracy: 0.9503 - val_loss: 0.1548 - val_accuracy: 0.9590 - 24s/epoch - 637ms/step\n",
            "Epoch 2/10\n",
            "37/37 - 20s - loss: 0.1047 - accuracy: 0.9683 - val_loss: 0.1366 - val_accuracy: 0.9625 - 20s/epoch - 545ms/step\n",
            "Epoch 3/10\n",
            "37/37 - 20s - loss: 0.0890 - accuracy: 0.9709 - val_loss: 0.1244 - val_accuracy: 0.9625 - 20s/epoch - 544ms/step\n",
            "Epoch 4/10\n",
            "37/37 - 20s - loss: 0.0681 - accuracy: 0.9846 - val_loss: 0.1161 - val_accuracy: 0.9761 - 20s/epoch - 547ms/step\n",
            "Epoch 5/10\n",
            "37/37 - 20s - loss: 0.0505 - accuracy: 0.9906 - val_loss: 0.1130 - val_accuracy: 0.9693 - 20s/epoch - 545ms/step\n",
            "Epoch 6/10\n",
            "37/37 - 20s - loss: 0.0423 - accuracy: 0.9940 - val_loss: 0.1109 - val_accuracy: 0.9693 - 20s/epoch - 549ms/step\n",
            "Epoch 7/10\n",
            "37/37 - 20s - loss: 0.0391 - accuracy: 0.9906 - val_loss: 0.1103 - val_accuracy: 0.9693 - 20s/epoch - 541ms/step\n",
            "Epoch 8/10\n",
            "37/37 - 20s - loss: 0.0355 - accuracy: 0.9957 - val_loss: 0.1086 - val_accuracy: 0.9795 - 20s/epoch - 538ms/step\n",
            "Epoch 9/10\n",
            "37/37 - 21s - loss: 0.0273 - accuracy: 0.9966 - val_loss: 0.1101 - val_accuracy: 0.9693 - 21s/epoch - 555ms/step\n",
            "Epoch 10/10\n",
            "37/37 - 20s - loss: 0.0304 - accuracy: 0.9923 - val_loss: 0.1045 - val_accuracy: 0.9727 - 20s/epoch - 552ms/step\n"
          ]
        }
      ]
    },
    {
      "cell_type": "code",
      "source": [
        "\n"
      ],
      "metadata": {
        "id": "2jXx3X0-Hv-f"
      },
      "execution_count": null,
      "outputs": []
    },
    {
      "cell_type": "code",
      "source": [
        ""
      ],
      "metadata": {
        "id": "IgbWE4hDHzfv"
      },
      "execution_count": null,
      "outputs": []
    }
  ],
  "metadata": {
    "colab": {
      "collapsed_sections": [],
      "name": "Untitled8.ipynb",
      "provenance": [],
      "authorship_tag": "ABX9TyNn5gHS07iehqblmexdXihW",
      "include_colab_link": true
    },
    "kernelspec": {
      "display_name": "Python 3",
      "name": "python3"
    },
    "language_info": {
      "name": "python"
    }
  },
  "nbformat": 4,
  "nbformat_minor": 0
}